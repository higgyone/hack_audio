{
 "cells": [
  {
   "cell_type": "code",
   "execution_count": 1,
   "id": "04977a32",
   "metadata": {},
   "outputs": [
    {
     "data": {
      "application/javascript": [
       "IPython.notebook.set_autosave_interval(300000)"
      ]
     },
     "metadata": {},
     "output_type": "display_data"
    },
    {
     "name": "stdout",
     "output_type": "stream",
     "text": [
      "Autosaving every 300 seconds\n"
     ]
    }
   ],
   "source": [
    "%matplotlib inline\n",
    "%autosave 300\n",
    "import numpy as np\n",
    "import matplotlib.pyplot as plt\n",
    "plt.rcParams[\"figure.figsize\"] = (8,8)\n",
    "import wave\n",
    "import pyaudio\n",
    "from audio2numpy import open_audio\n",
    "from IPython.display import Audio\n",
    "from scipy import signal\n",
    "from scipy.io.wavfile import write\n",
    "from scipy.signal import  firwin, freqz, firwin2, butter"
   ]
  },
  {
   "cell_type": "code",
   "execution_count": 2,
   "id": "51a465e2",
   "metadata": {},
   "outputs": [
    {
     "data": {
      "text/plain": [
       "array([ 1, -1,  2, -2,  3])"
      ]
     },
     "execution_count": 2,
     "metadata": {},
     "output_type": "execute_result"
    }
   ],
   "source": [
    "inx = np.array([1, -1, 2 , -2, 3])\n",
    "# Buffer should be initialized without any value\n",
    "\n",
    "# Length of buffer = 5, output is indexed from end of buffer\n",
    "# Therefore, a delay of 5 samples is created\n",
    "buffer = np.zeros(5)\n",
    "N = len(inx)\n",
    "out = np.zeros(N)\n",
    "inx"
   ]
  },
  {
   "cell_type": "code",
   "execution_count": 3,
   "id": "b5a7a04f",
   "metadata": {},
   "outputs": [
    {
     "data": {
      "text/plain": [
       "[1, 2, 3, 4]"
      ]
     },
     "execution_count": 3,
     "metadata": {},
     "output_type": "execute_result"
    }
   ],
   "source": [
    "buffer = [1,2,3,4,5]\n",
    "buffer[:-1]"
   ]
  },
  {
   "cell_type": "code",
   "execution_count": 4,
   "id": "721f203a",
   "metadata": {},
   "outputs": [
    {
     "data": {
      "text/plain": [
       "array([0., 0., 0., 0.])"
      ]
     },
     "execution_count": 4,
     "metadata": {},
     "output_type": "execute_result"
    }
   ],
   "source": [
    "nuffer=np.zeros(5)\n",
    "nuffer[:-1]"
   ]
  },
  {
   "cell_type": "code",
   "execution_count": 12,
   "id": "ebaa73d5",
   "metadata": {
    "scrolled": true
   },
   "outputs": [
    {
     "name": "stderr",
     "output_type": "stream",
     "text": [
      "<ipython-input-12-27069d64c7df>:1: VisibleDeprecationWarning: Creating an ndarray from ragged nested sequences (which is a list-or-tuple of lists-or-tuples-or ndarrays with different lengths or shapes) is deprecated. If you meant to do this, you must specify 'dtype=object' when creating the ndarray\n",
      "  inx = np.array([1, -1, 2 , -2, [0]*6])\n"
     ]
    },
    {
     "data": {
      "text/plain": [
       "array([-1,  2,  3,  4,  5])"
      ]
     },
     "execution_count": 12,
     "metadata": {},
     "output_type": "execute_result"
    }
   ],
   "source": [
    "inx = np.array([1, -1, 2 , -2, [0]*6])\n",
    "buffer = [1,2,3,4,5]\n",
    "np.hstack([inx[1], buffer[1:]])"
   ]
  },
  {
   "cell_type": "code",
   "execution_count": 11,
   "id": "1d746727",
   "metadata": {},
   "outputs": [
    {
     "data": {
      "text/plain": [
       "array([0, 0, 0, 0, 0, 0])"
      ]
     },
     "execution_count": 11,
     "metadata": {},
     "output_type": "execute_result"
    }
   ],
   "source": [
    "np.array([0]*6)"
   ]
  },
  {
   "cell_type": "code",
   "execution_count": 31,
   "id": "d55f095a",
   "metadata": {},
   "outputs": [
    {
     "name": "stdout",
     "output_type": "stream",
     "text": [
      "out [0. 0. 0. 0. 0. 0. 0. 0. 0. 0.]\n",
      "buffer [1. 0. 0. 0. 0.]\n",
      "out [0. 0. 0. 0. 0. 0. 0. 0. 0. 0.]\n",
      "buffer [-1.  1.  0.  0.  0.]\n",
      "out [0. 0. 0. 0. 0. 0. 0. 0. 0. 0.]\n",
      "buffer [ 2. -1.  1.  0.  0.]\n",
      "out [0. 0. 0. 0. 0. 0. 0. 0. 0. 0.]\n",
      "buffer [-2.  2. -1.  1.  0.]\n",
      "out [0. 0. 0. 0. 0. 0. 0. 0. 0. 0.]\n",
      "buffer [ 0. -2.  2. -1.  1.]\n",
      "out [0. 0. 0. 0. 0. 1. 0. 0. 0. 0.]\n",
      "buffer [ 0.  0. -2.  2. -1.]\n",
      "out [ 0.  0.  0.  0.  0.  1. -1.  0.  0.  0.]\n",
      "buffer [ 0.  0.  0. -2.  2.]\n",
      "out [ 0.  0.  0.  0.  0.  1. -1.  2.  0.  0.]\n",
      "buffer [ 0.  0.  0.  0. -2.]\n",
      "out [ 0.  0.  0.  0.  0.  1. -1.  2. -2.  0.]\n",
      "buffer [0. 0. 0. 0. 0.]\n",
      "out [ 0.  0.  0.  0.  0.  1. -1.  2. -2.  0.]\n",
      "buffer [0. 0. 0. 0. 0.]\n",
      "inx [ 1 -1  2 -2  0  0  0  0  0  0]\n",
      "out [ 0.  0.  0.  0.  0.  1. -1.  2. -2.  0.]\n"
     ]
    }
   ],
   "source": [
    "inx = np.array([1, -1, 2 , -2, 0,0,0,0,0,0])\n",
    "# Buffer should be initialized without any value\n",
    "\n",
    "# Length of buffer = 5, output is indexed from end of buffer\n",
    "# Therefore, a delay of 5 samples is created\n",
    "buffer = np.zeros(5)\n",
    "N = len(inx)\n",
    "out = np.zeros(N)\n",
    "\n",
    "for n in range(N):\n",
    "    # Read the output at the current time sample\n",
    "    # from the end of the delay buffer\n",
    "    out[n] = buffer[-1]\n",
    "    print(f'out {out}')\n",
    "    \n",
    "    buffer = np.hstack([inx[n], buffer[:-1]])\n",
    "    print(f'buffer {buffer}')\n",
    "\n",
    "print(f'inx {inx}')\n",
    "print(f'out {out}')"
   ]
  },
  {
   "cell_type": "code",
   "execution_count": 32,
   "id": "4d69134d",
   "metadata": {},
   "outputs": [
    {
     "name": "stdout",
     "output_type": "stream",
     "text": [
      "Series Delay: 5 Samples\n",
      "out(n) = in(n–5)\n",
      "The orig. input signal was: [ 1 -1  2 -2  0  0  0  0  0  0]\n",
      "The final output signal is: [ 0.  0.  0.  0.  0.  0.  1. -1.  2. -2.]\n"
     ]
    }
   ],
   "source": [
    "inx = np.array([1, -1, 2 , -2, 0,0,0,0,0,0])\n",
    "buffer = np.zeros(20) # Longer buffer than delay length\n",
    "# Number of samples of delay\n",
    "delay = 5 # Does not need to be the same length as buffer\n",
    "N = len(inx)\n",
    "out = np.zeros(N)\n",
    "\n",
    "# Series delay\n",
    "for n in range(N):\n",
    "    out[n] = buffer[delay]\n",
    "    buffer = np.hstack([inx[n], buffer[:-1]])\n",
    "\n",
    "# Compare the input & output signals\n",
    "print('Series Delay: 5 Samples')\n",
    "print('out(n) = in(n–5)')\n",
    "print(f'The orig. input signal was: {inx}')\n",
    "print(f'The final output signal is: {out}')\n"
   ]
  },
  {
   "cell_type": "code",
   "execution_count": 33,
   "id": "5d0f39ed",
   "metadata": {},
   "outputs": [
    {
     "name": "stdout",
     "output_type": "stream",
     "text": [
      "Feed–forward Delay: 3 samples\n",
      "out(n) = in(n) + in(n–3)\n",
      "The orig. input signal was: [1 2 3 4 5 1 2 3 2 1]\n",
      "The final output signal is: [1. 2. 3. 5. 7. 4. 6. 8. 3. 3.]\n"
     ]
    }
   ],
   "source": [
    "# Feedforward (FIR) system\n",
    "buffer = np.zeros(20)\n",
    "delay = 2 # Number of samples of delay\n",
    "inx = np.array([1,2,3,4,5,1,2,3,2,1])\n",
    "# Parallel delay line\n",
    "for n in range(N):\n",
    "    out[n] = inx[n] + buffer[delay]\n",
    "    buffer = np.hstack([inx[n], buffer[:-1]])\n",
    "\n",
    "print('Feed–forward Delay: 3 samples');\n",
    "print('out(n) = in(n) + in(n–3)');\n",
    "print(f'The orig. input signal was: {inx}')\n",
    "print(f'The final output signal is: {out}')"
   ]
  },
  {
   "cell_type": "code",
   "execution_count": 35,
   "id": "02408d2a",
   "metadata": {},
   "outputs": [
    {
     "name": "stdout",
     "output_type": "stream",
     "text": [
      "Feed–back Delay: 3 samples\n",
      "out(n) = in(n) + out(n–3)\n",
      "The orig. input signal was: [1 2 3 4 5 1 2 3 2 1]\n",
      "The final output signal is: [ 1.  2.  3.  5.  7.  4.  7. 10.  6.  8.]\n"
     ]
    }
   ],
   "source": [
    "# Feedback (IIR) system\n",
    "buffer = np.zeros(20)\n",
    "for n in range(N):\n",
    "    out[n] = inx[n] + buffer[delay]\n",
    "    buffer = np.hstack([out[n], buffer[:-1]])\n",
    "\n",
    "print('Feed–back Delay: 3 samples')\n",
    "print('out(n) = in(n) + out(n–3)');\n",
    "print(f'The orig. input signal was: {inx}')\n",
    "print(f'The final output signal is: {out}')"
   ]
  },
  {
   "cell_type": "markdown",
   "id": "d2fea19e",
   "metadata": {},
   "source": [
    "### feedback delay"
   ]
  },
  {
   "cell_type": "code",
   "execution_count": 48,
   "id": "a097e186",
   "metadata": {},
   "outputs": [],
   "source": [
    "def feedbackDelay(x, buffer, delay, fbGain):\n",
    "    out = x + fbGain * buffer[delay]\n",
    "    buffer = np.hstack([out, buffer[:-1]])\n",
    "    \n",
    "    return [out,buffer]"
   ]
  },
  {
   "cell_type": "code",
   "execution_count": 56,
   "id": "4d8bcfec",
   "metadata": {},
   "outputs": [
    {
     "name": "stdout",
     "output_type": "stream",
     "text": [
      "The orig. input signal was: [ 1 -1  2 -2  0  0  0  0  0  0]\n",
      "The final output signal is: [ 1.  -1.   2.  -2.   0.   0.5 -0.5  1.  -1.   0. ]\n"
     ]
    }
   ],
   "source": [
    "inx = np.array([1, -1, 2, -2, 0, 0, 0, 0, 0, 0])\n",
    "buffer = np.zeros(20)\n",
    "delay = 4\n",
    "fbGain = 0.5\n",
    "N = len(inx)\n",
    "out = np.zeros(N)\n",
    "\n",
    "for n in range(N):\n",
    "    [out[n], buffer] = feedbackDelay(inx[n], buffer, delay, fbGain)\n",
    "    \n",
    "print(f'The orig. input signal was: {inx}')\n",
    "print(f'The final output signal is: {out}')"
   ]
  },
  {
   "cell_type": "markdown",
   "id": "c7d7d658",
   "metadata": {},
   "source": [
    "### modulo"
   ]
  },
  {
   "cell_type": "code",
   "execution_count": 57,
   "id": "3dcd8a68",
   "metadata": {},
   "outputs": [
    {
     "name": "stdout",
     "output_type": "stream",
     "text": [
      "When \"a\" is : 0\n",
      "mod(a,4) is : 0\n",
      "When \"a\" is : 1\n",
      "mod(a,4) is : 1\n",
      "When \"a\" is : 2\n",
      "mod(a,4) is : 2\n",
      "When \"a\" is : 3\n",
      "mod(a,4) is : 3\n",
      "When \"a\" is : 4\n",
      "mod(a,4) is : 0\n",
      "When \"a\" is : 5\n",
      "mod(a,4) is : 1\n",
      "When \"a\" is : 6\n",
      "mod(a,4) is : 2\n",
      "When \"a\" is : 7\n",
      "mod(a,4) is : 3\n",
      "When \"a\" is : 8\n",
      "mod(a,4) is : 0\n",
      "When \"a\" is : 9\n",
      "mod(a,4) is : 1\n",
      "When \"a\" is : 10\n",
      "mod(a,4) is : 2\n",
      "When \"a\" is : 11\n",
      "mod(a,4) is : 3\n",
      "When \"a\" is : 12\n",
      "mod(a,4) is : 0\n",
      "When \"a\" is : 13\n",
      "mod(a,4) is : 1\n",
      "When \"a\" is : 14\n",
      "mod(a,4) is : 2\n"
     ]
    }
   ],
   "source": [
    "m = 4;\n",
    "for a in range(15):\n",
    "    \n",
    "    print(f'When \"a\" is : {a}')\n",
    "    print(f'mod(a,4) is : {np.mod(a,m)}')"
   ]
  },
  {
   "cell_type": "markdown",
   "id": "84751346",
   "metadata": {},
   "source": [
    "### circular buffer"
   ]
  },
  {
   "cell_type": "code",
   "execution_count": 90,
   "id": "7d096453",
   "metadata": {},
   "outputs": [],
   "source": [
    "def circularBuffer(x,buffer,delay,n):\n",
    "    # Determine indexes for circular buffer\n",
    "    length = len(buffer)\n",
    "    indexC = np.mod(n,length)  # Current index in circular buffer\n",
    "    indexD = np.mod(n-delay,length)  # Delay index in circular buffer\n",
    "    out = buffer[indexD]\n",
    "    # Store the current output in appropriate index\n",
    "    buffer[indexC] = x\n",
    "    \n",
    "    return out,buffer\n"
   ]
  },
  {
   "cell_type": "code",
   "execution_count": 91,
   "id": "d1e2e2a9",
   "metadata": {},
   "outputs": [
    {
     "data": {
      "text/plain": [
       "(8, array([ 0,  1,  2, 99,  4,  5,  6,  7,  8,  9]))"
      ]
     },
     "execution_count": 91,
     "metadata": {},
     "output_type": "execute_result"
    }
   ],
   "source": [
    "b = np.array([0,1,2,3,4,5,6,7,8,9])\n",
    "delay = 5\n",
    "x=99\n",
    "n=3\n",
    "\n",
    "circularBuffer(x,b,delay,n)"
   ]
  },
  {
   "cell_type": "code",
   "execution_count": 92,
   "id": "d14e3e2f",
   "metadata": {},
   "outputs": [
    {
     "name": "stdout",
     "output_type": "stream",
     "text": [
      "The current sample number is: 0 \n",
      "The current buffer index is: 0\n",
      "The current delay index is: 2\n",
      "The input is: 1 \n",
      "The delay buffer is: [1. 0. 0. 0. 0. 0.]\n",
      "The output is: 0.0\n",
      "\n",
      "The current sample number is: 1 \n",
      "The current buffer index is: 1\n",
      "The current delay index is: 3\n",
      "The input is: -1 \n",
      "The delay buffer is: [ 1. -1.  0.  0.  0.  0.]\n",
      "The output is: 0.0\n",
      "\n",
      "The current sample number is: 2 \n",
      "The current buffer index is: 2\n",
      "The current delay index is: 4\n",
      "The input is: 2 \n",
      "The delay buffer is: [ 1. -1.  2.  0.  0.  0.]\n",
      "The output is: 0.0\n",
      "\n",
      "The current sample number is: 3 \n",
      "The current buffer index is: 3\n",
      "The current delay index is: 5\n",
      "The input is: -2 \n",
      "The delay buffer is: [ 1. -1.  2. -2.  0.  0.]\n",
      "The output is: 0.0\n",
      "\n",
      "The current sample number is: 4 \n",
      "The current buffer index is: 4\n",
      "The current delay index is: 0\n",
      "The input is: 3 \n",
      "The delay buffer is: [ 1. -1.  2. -2.  3.  0.]\n",
      "The output is: 1.0\n",
      "\n",
      "The current sample number is: 5 \n",
      "The current buffer index is: 5\n",
      "The current delay index is: 1\n",
      "The input is: 0 \n",
      "The delay buffer is: [ 1. -1.  2. -2.  3.  0.]\n",
      "The output is: -1.0\n",
      "\n",
      "The current sample number is: 6 \n",
      "The current buffer index is: 0\n",
      "The current delay index is: 2\n",
      "The input is: 0 \n",
      "The delay buffer is: [ 0. -1.  2. -2.  3.  0.]\n",
      "The output is: 2.0\n",
      "\n",
      "The current sample number is: 7 \n",
      "The current buffer index is: 1\n",
      "The current delay index is: 3\n",
      "The input is: 0 \n",
      "The delay buffer is: [ 0.  0.  2. -2.  3.  0.]\n",
      "The output is: -2.0\n",
      "\n",
      "The current sample number is: 8 \n",
      "The current buffer index is: 2\n",
      "The current delay index is: 4\n",
      "The input is: 0 \n",
      "The delay buffer is: [ 0.  0.  0. -2.  3.  0.]\n",
      "The output is: 3.0\n",
      "\n",
      "The current sample number is: 9 \n",
      "The current buffer index is: 3\n",
      "The current delay index is: 5\n",
      "The input is: 0 \n",
      "The delay buffer is: [0. 0. 0. 0. 3. 0.]\n",
      "The output is: 0.0\n",
      "\n"
     ]
    }
   ],
   "source": [
    "inx = np.array([1, -1, 2, -2, 3, 0, 0, 0, 0, 0])\n",
    "buffer = np.zeros(6)\n",
    "\n",
    "# Number of samples of delay\n",
    "delay = 4;\n",
    "N = len(inx)\n",
    "out = np.zeros(N)\n",
    "\n",
    "# Series delay\n",
    "for n in range(N):\n",
    "    out[n],buffer = circularBuffer(inx[n],buffer,delay,n)\n",
    "    # Display current status values\n",
    "    print(f'The current sample number is: {n} ')\n",
    "    print(f'The current buffer index is: {np.mod(n,6)}')\n",
    "    print(f'The current delay index is: {np.mod(n-delay,6)}')\n",
    "    print(f'The input is: {inx[n]} ')\n",
    "    print(f'The delay buffer is: {buffer}')\n",
    "    print(f'The output is: {out[n]}')\n",
    "    print('')\n",
    "          \n",
    "\n"
   ]
  },
  {
   "cell_type": "markdown",
   "id": "e523bcbf",
   "metadata": {},
   "source": [
    "### linear interpolation delay"
   ]
  },
  {
   "cell_type": "code",
   "execution_count": 97,
   "id": "732590d7",
   "metadata": {},
   "outputs": [
    {
     "name": "stdout",
     "output_type": "stream",
     "text": [
      "The orig. input signal was: [1 0 0 0 0 0 0 0 0 0]\n",
      "The final output signal is: [0.  0.  0.  0.  0.8 0.2 0.  0.  0.  0. ]\n"
     ]
    }
   ],
   "source": [
    "inx = np.array([1 , 0,0,0,0,0,0,0,0,0]) \n",
    "\n",
    "fracDelay = 3.2 # Fractional delay length in samples\n",
    "intDelay = int(np.floor(fracDelay)) # Round down to get the previous (3)\n",
    "frac = fracDelay - intDelay # Find the fractional amount (0.2)\n",
    "buffer = np.zeros(5) # length(buffer) ≥ ceil(fracDelay)\n",
    "N = len(inx)\n",
    "out = np.zeros(N)\n",
    "# Series Fractional Delay\n",
    "for n in range(N):\n",
    "    out[n] = (1-frac) * buffer[intDelay] + (frac) * buffer[intDelay+1]\n",
    "    buffer = np.hstack([inx[n], buffer[:-1]])\n",
    "    \n",
    "# Compare the input & output signals\n",
    "print(f'The orig. input signal was: {inx}')\n",
    "print(f'The final output signal is: {out}')\n"
   ]
  },
  {
   "cell_type": "markdown",
   "id": "c2ddeb75",
   "metadata": {},
   "source": [
    "### cubic interpolation"
   ]
  },
  {
   "cell_type": "code",
   "execution_count": 105,
   "id": "babd3403",
   "metadata": {},
   "outputs": [
    {
     "name": "stdout",
     "output_type": "stream",
     "text": [
      "The orig. input signal was: [1 0 0 0 0 0 0 0 0 0]\n",
      "The final output signal is: [ 0.     0.    -0.128  0.928  0.232 -0.032  0.     0.     0.     0.   ]\n"
     ]
    },
    {
     "data": {
      "image/png": "[encoded data removed]",
      "text/plain": [
       "<Figure size 576x576 with 1 Axes>"
      ]
     },
     "metadata": {
      "needs_background": "light"
     },
     "output_type": "display_data"
    }
   ],
   "source": [
    "inx = np.array([1 , 0,0,0,0,0,0,0,0,0]) # Horizontal for displaying in Command Window\n",
    "fracDelay = 3.2 # Fractional delay length in samples\n",
    "intDelay = int(np.floor(fracDelay)) # Round down to get the previous (3)\n",
    "frac = fracDelay - intDelay # Find the fractional amount (0.2)\n",
    "buffer = np.zeros(5) # length(buffer) ≥ ceil(fracDelay)+1\n",
    "N = len(inx)\n",
    "out = np.zeros(N)\n",
    "\n",
    "# Series fractional delay\n",
    "for n in range(N):\n",
    "    # Calculate intermediate variable for cubic interpolation\n",
    "    a0 = buffer[intDelay+1] - buffer[intDelay] - buffer[intDelay-2] + buffer[intDelay-1]\n",
    "    a1 = buffer[intDelay-2] - buffer[intDelay-1] - a0\n",
    "    a2 = buffer[intDelay] - buffer[intDelay-2]\n",
    "    a3 = buffer[intDelay-1]\n",
    "\n",
    "    out[n] = a0*(frac**3) + a1*(frac**2) + a2*frac + a3\n",
    "    buffer = np.hstack([inx[n], buffer[:-1]])\n",
    "\n",
    "# Compare the input & output signals\n",
    "print(f'The orig. input signal was: {inx}')\n",
    "print(f'The final output signal is: {out}')\n",
    "\n",
    "plt.plot(out);\n",
    "\n"
   ]
  },
  {
   "cell_type": "code",
   "execution_count": null,
   "id": "e854e7dc",
   "metadata": {},
   "outputs": [],
   "source": []
  }
 ],
 "metadata": {
  "kernelspec": {
   "display_name": "Python 3",
   "language": "python",
   "name": "python3"
  },
  "language_info": {
   "codemirror_mode": {
    "name": "ipython",
    "version": 3
   },
   "file_extension": ".py",
   "mimetype": "text/x-python",
   "name": "python",
   "nbconvert_exporter": "python",
   "pygments_lexer": "ipython3",
   "version": "3.8.8"
  }
 },
 "nbformat": 4,
 "nbformat_minor": 5
}
